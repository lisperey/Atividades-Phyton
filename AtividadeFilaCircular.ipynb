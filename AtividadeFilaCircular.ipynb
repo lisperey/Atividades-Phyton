{
  "nbformat": 4,
  "nbformat_minor": 0,
  "metadata": {
    "colab": {
      "provenance": [],
      "authorship_tag": "ABX9TyOs8+Lez7F2vSiLH1ls0sOl",
      "include_colab_link": true
    },
    "kernelspec": {
      "name": "python3",
      "display_name": "Python 3"
    },
    "language_info": {
      "name": "python"
    }
  },
  "cells": [
    {
      "cell_type": "markdown",
      "metadata": {
        "id": "view-in-github",
        "colab_type": "text"
      },
      "source": [
        "<a href=\"https://colab.research.google.com/github/lisperey/Atividades-Phyton/blob/main/AtividadeFilaCircular.ipynb\" target=\"_parent\"><img src=\"https://colab.research.google.com/assets/colab-badge.svg\" alt=\"Open In Colab\"/></a>"
      ]
    },
    {
      "cell_type": "code",
      "execution_count": 1,
      "metadata": {
        "id": "tBw-TG-Zq2Y-"
      },
      "outputs": [],
      "source": [
        "import numpy as np"
      ]
    },
    {
      "cell_type": "code",
      "source": [
        "class FilaCircular:\n",
        "    def __init__(self, capacidade):\n",
        "        self.capacidade = capacidade\n",
        "        self.inicio = 0\n",
        "        self.final = -1\n",
        "        self.numero_elemento = 0\n",
        "        self.valores=np.empty(self.capacidade, dtype=int)\n",
        "\n",
        "    def __fila_vazia(self):\n",
        "      return self.numero_elemento==0\n",
        "\n",
        "    def __fila_cheia(self):\n",
        "      return self.numero_elemento==self.capacidade\n",
        "\n",
        "    def enfileirar(self, valor):\n",
        "        if self.__fila_cheia():\n",
        "            print('A fila está cheia!!!')\n",
        "            return\n",
        "        \n",
        "        if self.final==self.capacidade-1:\n",
        "            self.final=-1\n",
        "        self.final+=1\n",
        "        self.valores[self.final]=valor\n",
        "        self.numero_elemento+=1\n",
        "\n",
        "    def desenfileirar(self):\n",
        "        if self.__fila_vazia():\n",
        "            print('A fila está vazia!!!')\n",
        "            return \n",
        "        temp = self.valores[self.inicio]\n",
        "        self.inicio+=1\n",
        "        if self.inicio==self.capacidade-1:\n",
        "            self.inicio=0\n",
        "        self.numero_elemento-=1\n",
        "        return temp\n",
        "\n",
        "    def primeiro(self):\n",
        "        if self.__fila_vazia():\n",
        "            return -1\n",
        "        return self.valores[self.inicio]\n"
      ],
      "metadata": {
        "id": "J63Oudqirun4"
      },
      "execution_count": 2,
      "outputs": []
    },
    {
      "cell_type": "code",
      "source": [
        "filac1 = FilaCircular(5)"
      ],
      "metadata": {
        "id": "11AA435bvxFR"
      },
      "execution_count": 3,
      "outputs": []
    },
    {
      "cell_type": "code",
      "source": [
        "filac1.enfileirar(10)\n",
        "filac1.enfileirar(5)\n",
        "filac1.enfileirar(14)\n",
        "filac1.enfileirar(11)\n",
        "filac1.enfileirar(7)\n"
      ],
      "metadata": {
        "id": "Cf2behdTv9dr"
      },
      "execution_count": 4,
      "outputs": []
    },
    {
      "cell_type": "code",
      "source": [
        "filac1.valores"
      ],
      "metadata": {
        "colab": {
          "base_uri": "https://localhost:8080/"
        },
        "id": "mpM59dLCwPUt",
        "outputId": "db26de09-d869-4068-b041-9d7edd35471f"
      },
      "execution_count": 5,
      "outputs": [
        {
          "output_type": "execute_result",
          "data": {
            "text/plain": [
              "array([10,  5, 14, 11,  7])"
            ]
          },
          "metadata": {},
          "execution_count": 5
        }
      ]
    },
    {
      "cell_type": "code",
      "source": [
        "import random\n",
        "def chapeu(fila):\n",
        "    lista = list(fila.valores)\n",
        "    soldadoAleatorio = random.choice(lista)\n",
        "    numeroAleatorio = random.randint(1, 10)\n",
        "    proximo = 0\n",
        "    \n",
        "    x = ((lista.index(soldadoAleatorio)+numeroAleatorio)%len(lista))-1\n",
        "    proximo = lista[x+1]\n",
        "    del lista[x]\n",
        "    \n",
        "    numeroAleatorio = random.randint(1, 10)\n",
        "    while len(lista) != 1:\n",
        "         \n",
        "        numeroAleatorio = random.randint(1, 10)\n",
        "        x = ((lista.index(proximo)+numeroAleatorio)%len(lista))-1\n",
        "        \n",
        "        proximo = lista[x+1]\n",
        "        del lista[x]\n",
        "        \n",
        "\n",
        "            \n",
        "\n",
        "    print(f'O soldadado para a tarefa foi o {lista[0]}.') \n",
        "    \n"
      ],
      "metadata": {
        "id": "hxjKcDNLwVNT"
      },
      "execution_count": 86,
      "outputs": []
    },
    {
      "cell_type": "code",
      "source": [
        "chapeu(filac1)"
      ],
      "metadata": {
        "colab": {
          "base_uri": "https://localhost:8080/"
        },
        "id": "8MpKRrPU78dz",
        "outputId": "3d119a2f-2648-46d1-b024-7caab350ed53"
      },
      "execution_count": 87,
      "outputs": [
        {
          "output_type": "stream",
          "name": "stdout",
          "text": [
            "O soldadado para a tarefa foi o 5.\n"
          ]
        }
      ]
    }
  ]
}