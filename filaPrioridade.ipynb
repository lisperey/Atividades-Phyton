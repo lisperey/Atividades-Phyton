{
  "nbformat": 4,
  "nbformat_minor": 0,
  "metadata": {
    "colab": {
      "provenance": [],
      "authorship_tag": "ABX9TyN1QLk4lSg4EaolMaZCsJqJ",
      "include_colab_link": true
    },
    "kernelspec": {
      "name": "python3",
      "display_name": "Python 3"
    },
    "language_info": {
      "name": "python"
    }
  },
  "cells": [
    {
      "cell_type": "markdown",
      "metadata": {
        "id": "view-in-github",
        "colab_type": "text"
      },
      "source": [
        "<a href=\"https://colab.research.google.com/github/lisperey/Atividades-Phyton/blob/main/filaPrioridade.ipynb\" target=\"_parent\"><img src=\"https://colab.research.google.com/assets/colab-badge.svg\" alt=\"Open In Colab\"/></a>"
      ]
    },
    {
      "cell_type": "code",
      "execution_count": null,
      "metadata": {
        "id": "e2XaSVsiGtRl"
      },
      "outputs": [],
      "source": [
        "import numpy as np"
      ]
    },
    {
      "cell_type": "code",
      "source": [
        "class FilaPrioridade:\n",
        "    def __init__(self, capacidade):\n",
        "        self.capacidade = capacidade\n",
        "        self.numero_elemento = 0 \n",
        "        self.valores = np.empty(self.capacidade, dtype =int)\n",
        "\n",
        "    def __fila_vazia(self):\n",
        "      return self.numero_elemento==0\n",
        "\n",
        "    def __fila_cheia(self):\n",
        "      return self.numero_elemento==self.capacidade\n",
        "    \n",
        "    def enfileirar(self, valor):\n",
        "        if self.__fila_cheia():\n",
        "            return print('A fila está cheia!!!')\n",
        "            \n",
        "        if self.numero_elemento==0:\n",
        "            self.valores[self.numero_elemento]=valor\n",
        "            self.numero_elemento+=1\n",
        "        else:\n",
        "            x = self.numero_elemento-1\n",
        "            while x>=0:\n",
        "                if valor>self.valores[x]:\n",
        "                    self.valores[x+1]=self.valores[x]\n",
        "                else:\n",
        "                    break\n",
        "                x-=1\n",
        "            self.valores[x+1]=valor\n",
        "            self.numero_elemento+=1\n",
        "\n",
        "    def desenfileirar(self):\n",
        "        if self.__fila_vazia():\n",
        "            return print('A fila está vazia!!!')\n",
        "             \n",
        "        valor = self.valores[self.numero_elemento-1]\n",
        "        self.numero_elemento-=1\n",
        "        return valor\n",
        "\n",
        "    def primeiro(self):\n",
        "        if self.__fila_vazia():\n",
        "            return -1\n",
        "        return self.valores[self.numero_elemento-1]\n",
        "\n",
        "\n",
        "    "
      ],
      "metadata": {
        "id": "JVYhZ32fGzF9"
      },
      "execution_count": null,
      "outputs": []
    },
    {
      "cell_type": "code",
      "source": [
        "fila = FilaPrioridade(5)"
      ],
      "metadata": {
        "id": "VS8TuDRCWr_1"
      },
      "execution_count": null,
      "outputs": []
    },
    {
      "cell_type": "code",
      "source": [
        "fila.primeiro()"
      ],
      "metadata": {
        "colab": {
          "base_uri": "https://localhost:8080/"
        },
        "id": "iwMRNeEjWwts",
        "outputId": "ec4935e1-cf23-471b-e1d9-93b16c4f813a"
      },
      "execution_count": null,
      "outputs": [
        {
          "output_type": "execute_result",
          "data": {
            "text/plain": [
              "-1"
            ]
          },
          "metadata": {},
          "execution_count": 32
        }
      ]
    },
    {
      "cell_type": "code",
      "source": [
        "fila.valores"
      ],
      "metadata": {
        "colab": {
          "base_uri": "https://localhost:8080/"
        },
        "id": "bk7eV2Y4eiBB",
        "outputId": "9752242c-4416-46dc-e3cb-e133dcf6b943"
      },
      "execution_count": null,
      "outputs": [
        {
          "output_type": "execute_result",
          "data": {
            "text/plain": [
              "array([44319824,        0,        0,        0,        0])"
            ]
          },
          "metadata": {},
          "execution_count": 33
        }
      ]
    },
    {
      "cell_type": "code",
      "source": [
        "fila.enfileirar(30)\n",
        "fila.primeiro()\n",
        "fila.valores"
      ],
      "metadata": {
        "colab": {
          "base_uri": "https://localhost:8080/"
        },
        "id": "JcV1uQTYX5_k",
        "outputId": "3a0ba2cf-4a7c-4197-e5be-34f4da73c160"
      },
      "execution_count": null,
      "outputs": [
        {
          "output_type": "execute_result",
          "data": {
            "text/plain": [
              "array([                 30, 4598175219545276416, 4602678819172646912,\n",
              "       4604930618986332160, 4607182418800017408])"
            ]
          },
          "metadata": {},
          "execution_count": 5
        }
      ]
    },
    {
      "cell_type": "code",
      "source": [
        "fila.enfileirar(50)\n",
        "fila.primeiro()\n",
        "fila.valores"
      ],
      "metadata": {
        "colab": {
          "base_uri": "https://localhost:8080/"
        },
        "id": "vUHx8AlHYI1r",
        "outputId": "4980afe9-870f-48cb-f57f-26be7e3ca42e"
      },
      "execution_count": null,
      "outputs": [
        {
          "output_type": "execute_result",
          "data": {
            "text/plain": [
              "array([                 50,                  30, 4602678819172646912,\n",
              "       4604930618986332160, 4607182418800017408])"
            ]
          },
          "metadata": {},
          "execution_count": 6
        }
      ]
    },
    {
      "cell_type": "code",
      "source": [
        "fila.enfileirar(10)\n",
        "\n",
        "fila.valores\n"
      ],
      "metadata": {
        "colab": {
          "base_uri": "https://localhost:8080/"
        },
        "id": "PgeV8-7jdvzg",
        "outputId": "522cf9d1-6ae6-4b0e-c838-db9762d1717d"
      },
      "execution_count": null,
      "outputs": [
        {
          "output_type": "execute_result",
          "data": {
            "text/plain": [
              "array([                 50,                  30,                  10,\n",
              "       4604930618986332160, 4607182418800017408])"
            ]
          },
          "metadata": {},
          "execution_count": 7
        }
      ]
    },
    {
      "cell_type": "code",
      "source": [
        "fila.primeiro()"
      ],
      "metadata": {
        "id": "8ATV9ZBEe1Kq",
        "outputId": "1c8280f2-02c8-476d-c793-d33f57fde3c8",
        "colab": {
          "base_uri": "https://localhost:8080/"
        }
      },
      "execution_count": null,
      "outputs": [
        {
          "output_type": "execute_result",
          "data": {
            "text/plain": [
              "10"
            ]
          },
          "metadata": {},
          "execution_count": 39
        }
      ]
    },
    {
      "cell_type": "code",
      "source": [
        "fila.desenfileirar()\n",
        "fila.valores"
      ],
      "metadata": {
        "colab": {
          "base_uri": "https://localhost:8080/"
        },
        "id": "ug2ynkE5q4EH",
        "outputId": "a30c3e50-02cc-43dd-bede-f7292e4f0df3"
      },
      "execution_count": null,
      "outputs": [
        {
          "output_type": "execute_result",
          "data": {
            "text/plain": [
              "array([                 50,                  30,                  10,\n",
              "       4604930618986332160, 4607182418800017408])"
            ]
          },
          "metadata": {},
          "execution_count": 8
        }
      ]
    }
  ]
}