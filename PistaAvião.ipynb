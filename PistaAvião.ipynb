{
  "nbformat": 4,
  "nbformat_minor": 0,
  "metadata": {
    "colab": {
      "provenance": [],
      "authorship_tag": "ABX9TyOrVs+c0CRqaCojvYfGVzBU",
      "include_colab_link": true
    },
    "kernelspec": {
      "name": "python3",
      "display_name": "Python 3"
    },
    "language_info": {
      "name": "python"
    }
  },
  "cells": [
    {
      "cell_type": "markdown",
      "metadata": {
        "id": "view-in-github",
        "colab_type": "text"
      },
      "source": [
        "<a href=\"https://colab.research.google.com/github/lisperey/Atividades-Phyton/blob/main/PistaAvi%C3%A3o.ipynb\" target=\"_parent\"><img src=\"https://colab.research.google.com/assets/colab-badge.svg\" alt=\"Open In Colab\"/></a>"
      ]
    },
    {
      "cell_type": "code",
      "execution_count": 1,
      "metadata": {
        "id": "S8iVeltFQ8Xy"
      },
      "outputs": [],
      "source": [
        "import numpy as np"
      ]
    },
    {
      "cell_type": "code",
      "source": [
        "class Fila:\n",
        "    def __init__(self, capacidade):\n",
        "        self.capacidade = capacidade\n",
        "        self.inicio = 0\n",
        "        self.final = -1\n",
        "        self.numero_elemento = 0\n",
        "        self.valores=np.empty(self.capacidade, dtype=int)\n",
        "\n",
        "    def fila_vazia(self):\n",
        "      return self.numero_elemento==0\n",
        "\n",
        "    def fila_cheia(self):\n",
        "      return self.numero_elemento==self.capacidade\n",
        "\n",
        "    def enfileirar(self, valor):\n",
        "        if self.fila_cheia():\n",
        "            print('A fila está cheia!!!')\n",
        "            return\n",
        "        \n",
        "        if self.final==self.capacidade-1:\n",
        "            self.final=-1\n",
        "        self.final+=1\n",
        "        self.valores[self.final]=valor\n",
        "        self.numero_elemento+=1\n",
        "\n",
        "    def desenfileirar(self):\n",
        "        if self.fila_vazia():\n",
        "            print('A fila está vazia!!!')\n",
        "            return \n",
        "        temp = self.valores[self.inicio]\n",
        "        self.inicio+=1\n",
        "        if self.inicio==self.capacidade-1:\n",
        "            self.inicio=0\n",
        "        self.numero_elemento-=1\n",
        "        return temp\n",
        "\n",
        "    def primeiro(self):\n",
        "        if self.fila_vazia():\n",
        "            return -1\n",
        "        return self.valores[self.inicio]"
      ],
      "metadata": {
        "id": "h6V1wBBebQmG"
      },
      "execution_count": 4,
      "outputs": []
    },
    {
      "cell_type": "code",
      "source": [
        "filax = Fila(5)\n",
        "filax.enfileirar(20)\n",
        "filax.enfileirar(21)"
      ],
      "metadata": {
        "id": "MI0skbvmgpbK"
      },
      "execution_count": 6,
      "outputs": []
    },
    {
      "cell_type": "code",
      "source": [
        "def qtdFilaDeco(fx):\n",
        "    if fx.fila_vazia():\n",
        "        return 'Não existe avições para decolar!'\n",
        "    else:\n",
        "        return f'Número de avições aguardando para decolar: {len(fx.valores)}'"
      ],
      "metadata": {
        "id": "Fy6x20uxfisC"
      },
      "execution_count": 27,
      "outputs": []
    },
    {
      "cell_type": "code",
      "source": [
        "qtdFilaDeco(filax)"
      ],
      "metadata": {
        "colab": {
          "base_uri": "https://localhost:8080/",
          "height": 35
        },
        "id": "qJIJ1N8XhMiw",
        "outputId": "bb2e4fb1-58d2-4391-c3e0-cd63b922e8a1"
      },
      "execution_count": 14,
      "outputs": [
        {
          "output_type": "execute_result",
          "data": {
            "text/plain": [
              "'Número de avições aguardano para decolar: 5'"
            ],
            "application/vnd.google.colaboratory.intrinsic+json": {
              "type": "string"
            }
          },
          "metadata": {},
          "execution_count": 14
        }
      ]
    },
    {
      "cell_type": "code",
      "source": [
        "def autorizarDeco(fn):\n",
        "    print(f'O avião {fn.primeiro()} decolou.')\n",
        "    fn.desenfileirar()\n",
        "    return fn.valores\n",
        "\n"
      ],
      "metadata": {
        "id": "97DLbhv6iper"
      },
      "execution_count": 23,
      "outputs": []
    },
    {
      "cell_type": "code",
      "source": [
        "autorizarDeco(filax)"
      ],
      "metadata": {
        "colab": {
          "base_uri": "https://localhost:8080/"
        },
        "id": "uuOzI7ICjXpJ",
        "outputId": "ac74eb72-721a-481d-9311-77ec8fc6f89d"
      },
      "execution_count": 36,
      "outputs": [
        {
          "output_type": "stream",
          "name": "stdout",
          "text": [
            "O avião 26 decolou.\n"
          ]
        },
        {
          "output_type": "execute_result",
          "data": {
            "text/plain": [
              "array([26, 21, 22, 23, 25])"
            ]
          },
          "metadata": {},
          "execution_count": 36
        }
      ]
    },
    {
      "cell_type": "code",
      "source": [
        "def addFilaEspera(fn, a):\n",
        "    fn.enfileirar(a)\n",
        "    print(f'O avião {a} foi adicionado na fila de espera.')\n",
        "    return fn.valores\n"
      ],
      "metadata": {
        "id": "iQwvmDRvkBq5"
      },
      "execution_count": 24,
      "outputs": []
    },
    {
      "cell_type": "code",
      "source": [
        "addFilaEspera(filax, 26)"
      ],
      "metadata": {
        "colab": {
          "base_uri": "https://localhost:8080/"
        },
        "id": "Wm3F9tFmkujo",
        "outputId": "76ed67dc-0af8-47f0-dac8-e4ae248b6e68"
      },
      "execution_count": 32,
      "outputs": [
        {
          "output_type": "stream",
          "name": "stdout",
          "text": [
            "O avião 26 foi adicionado na fila de espera.\n"
          ]
        },
        {
          "output_type": "execute_result",
          "data": {
            "text/plain": [
              "array([26, 21, 22, 23, 25])"
            ]
          },
          "metadata": {},
          "execution_count": 32
        }
      ]
    },
    {
      "cell_type": "code",
      "source": [
        "def listaEspera(fn):\n",
        "    for i in range(len(fn.valores)):\n",
        "        if fn.valores[i] != fn.primeiro():\n",
        "            print(fn.valores[i])\n"
      ],
      "metadata": {
        "id": "BrOjIQA7m4mb"
      },
      "execution_count": 33,
      "outputs": []
    },
    {
      "cell_type": "code",
      "source": [
        "def primeiroAviao(fn):\n",
        "    return fn.primeiro()"
      ],
      "metadata": {
        "id": "H8PvXNAFpZX1"
      },
      "execution_count": null,
      "outputs": []
    }
  ]
}