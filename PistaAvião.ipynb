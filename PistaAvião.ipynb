{
  "nbformat": 4,
  "nbformat_minor": 0,
  "metadata": {
    "colab": {
      "provenance": [],
      "authorship_tag": "ABX9TyOJY4n2OhGxVFOJdEruiDon",
      "include_colab_link": true
    },
    "kernelspec": {
      "name": "python3",
      "display_name": "Python 3"
    },
    "language_info": {
      "name": "python"
    }
  },
  "cells": [
    {
      "cell_type": "markdown",
      "metadata": {
        "id": "view-in-github",
        "colab_type": "text"
      },
      "source": [
        "<a href=\"https://colab.research.google.com/github/lisperey/Atividades-Phyton/blob/main/PistaAvi%C3%A3o.ipynb\" target=\"_parent\"><img src=\"https://colab.research.google.com/assets/colab-badge.svg\" alt=\"Open In Colab\"/></a>"
      ]
    },
    {
      "cell_type": "code",
      "execution_count": null,
      "metadata": {
        "id": "S8iVeltFQ8Xy"
      },
      "outputs": [],
      "source": [
        "import numpy as np"
      ]
    },
    {
      "cell_type": "code",
      "source": [
        "class PistaDecolagem:\n",
        "    def __init__(self, capacidade):\n",
        "        self.capacidade = capacidade\n",
        "        self.inicio = 0\n",
        "        self.final = -1\n",
        "        self.numero_elemento = 0\n",
        "        self.qtd = 0\n",
        "        self.valores=np.empty(self.capacidade, dtype=int)\n",
        "        self.letra = np.chararray(self.capacidade, unicode=True)\n",
        "        \n",
        "\n",
        "    def fila_vazia(self):\n",
        "      return self.numero_elemento==0\n",
        "\n",
        "    def fila_cheia(self):\n",
        "      return self.numero_elemento==self.capacidade\n",
        "\n",
        "    def qtdFilaDeco(self):\n",
        "        if self.fila_vazia():\n",
        "            return 'Não existe aviões para decolar!'\n",
        "        else:\n",
        "            return f'Número de aviões aguardando para decolar: {self.numero_elemento}'\n",
        "\n",
        "    def addEspera(self, valor, letra:str):\n",
        "        if self.fila_cheia():\n",
        "            print('A fila está cheia!!!')\n",
        "            return\n",
        "        \n",
        "        if self.final==self.capacidade-1:\n",
        "            self.final=-1\n",
        "        self.final+=1\n",
        "        self.valores[self.final]=valor\n",
        "        self.letra[self.final] = letra\n",
        "        self.numero_elemento+=1\n",
        "        print(f'O avião {valor}-{letra} foi adicionado na fila de espera.')\n",
        "\n",
        "    def decolar(self):\n",
        "        if self.fila_vazia():\n",
        "            print('Não existe aviões para decolar!')\n",
        "            return \n",
        "        temp = self.valores[self.inicio]\n",
        "        letra = self.letra[self.inicio]\n",
        "        self.inicio+=1\n",
        "        if self.inicio==self.capacidade-1:\n",
        "            self.inicio=0\n",
        "        self.numero_elemento-=1\n",
        "        print(f'O avião {temp}-{letra} decolou.')\n",
        "        return \n",
        "\n",
        "    def primeiro(self):\n",
        "        if self.fila_vazia():\n",
        "            return -1\n",
        "        p = self.valores[self.inicio]\n",
        "        letra = self.letra[self.inicio]\n",
        "        print(f'O primeiro avião da fila: {p}-{letra}.')\n",
        "        return \n",
        "\n",
        "    def listaEspera(self):\n",
        "        for i in range(self.numero_elemento):\n",
        "            if self.valores[i] != self.valores[0]:\n",
        "                print(self.valores[i])"
      ],
      "metadata": {
        "id": "h6V1wBBebQmG"
      },
      "execution_count": 106,
      "outputs": []
    },
    {
      "cell_type": "code",
      "source": [
        "pista = PistaDecolagem(5)"
      ],
      "metadata": {
        "id": "tcmbz1BtyyoJ"
      },
      "execution_count": 107,
      "outputs": []
    },
    {
      "cell_type": "code",
      "source": [
        "pista.addEspera(10, \"A\")\n",
        "pista.addEspera(15, \"B\")\n",
        "pista.addEspera(20, \"C\")\n",
        "pista.addEspera(25, \"D\")\n"
      ],
      "metadata": {
        "colab": {
          "base_uri": "https://localhost:8080/"
        },
        "id": "pD8OxSne27IM",
        "outputId": "fd04b8c8-a5d1-4de0-d2d9-4d3193b6ac05"
      },
      "execution_count": 108,
      "outputs": [
        {
          "output_type": "stream",
          "name": "stdout",
          "text": [
            "O avião 10-A foi adicionado na fila de espera.\n",
            "O avião 15-B foi adicionado na fila de espera.\n",
            "O avião 20-C foi adicionado na fila de espera.\n",
            "O avião 25-D foi adicionado na fila de espera.\n"
          ]
        }
      ]
    },
    {
      "cell_type": "code",
      "source": [
        "pista.primeiro()"
      ],
      "metadata": {
        "colab": {
          "base_uri": "https://localhost:8080/"
        },
        "id": "yCEUvcS45Sus",
        "outputId": "7eb5140b-7f6c-4bc0-97a4-d3e41958b54c"
      },
      "execution_count": 104,
      "outputs": [
        {
          "output_type": "stream",
          "name": "stdout",
          "text": [
            "O primeiro avião da fila: 10-A.\n"
          ]
        }
      ]
    },
    {
      "cell_type": "code",
      "source": [
        "pista.qtdFilaDeco()"
      ],
      "metadata": {
        "colab": {
          "base_uri": "https://localhost:8080/",
          "height": 35
        },
        "id": "4_fu5nhQ5cHD",
        "outputId": "e318ed00-e18e-453f-8af1-4e68a19fd812"
      },
      "execution_count": 98,
      "outputs": [
        {
          "output_type": "execute_result",
          "data": {
            "text/plain": [
              "'Número de aviões aguardando para decolar: 4'"
            ],
            "application/vnd.google.colaboratory.intrinsic+json": {
              "type": "string"
            }
          },
          "metadata": {},
          "execution_count": 98
        }
      ]
    },
    {
      "cell_type": "code",
      "source": [
        "pista.decolar()"
      ],
      "metadata": {
        "colab": {
          "base_uri": "https://localhost:8080/"
        },
        "id": "AMTSpZ0t-kLx",
        "outputId": "35812682-d87e-4088-b425-8d29306995d1"
      },
      "execution_count": 99,
      "outputs": [
        {
          "output_type": "stream",
          "name": "stdout",
          "text": [
            "O avião 10-A decolou.\n"
          ]
        }
      ]
    },
    {
      "cell_type": "code",
      "source": [
        "pista.listaEspera()"
      ],
      "metadata": {
        "colab": {
          "base_uri": "https://localhost:8080/"
        },
        "id": "D7YNormuAN2G",
        "outputId": "870a5ee5-e63b-4f23-fbdb-2ebd25f9efb1"
      },
      "execution_count": 109,
      "outputs": [
        {
          "output_type": "stream",
          "name": "stdout",
          "text": [
            "15\n",
            "20\n",
            "25\n"
          ]
        }
      ]
    }
  ]
}