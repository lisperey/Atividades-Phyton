{
  "nbformat": 4,
  "nbformat_minor": 0,
  "metadata": {
    "colab": {
      "provenance": [],
      "collapsed_sections": [],
      "authorship_tag": "ABX9TyNjyvQloTVWe8U5vszW51ND",
      "include_colab_link": true
    },
    "kernelspec": {
      "name": "python3",
      "display_name": "Python 3"
    },
    "language_info": {
      "name": "python"
    }
  },
  "cells": [
    {
      "cell_type": "markdown",
      "metadata": {
        "id": "view-in-github",
        "colab_type": "text"
      },
      "source": [
        "<a href=\"https://colab.research.google.com/github/lisperey/Atividades-Phyton/blob/main/ListaPilha.ipynb\" target=\"_parent\"><img src=\"https://colab.research.google.com/assets/colab-badge.svg\" alt=\"Open In Colab\"/></a>"
      ]
    },
    {
      "cell_type": "code",
      "execution_count": 2,
      "metadata": {
        "id": "1jTudL_ToM5L"
      },
      "outputs": [],
      "source": [
        "import numpy as np"
      ]
    },
    {
      "cell_type": "code",
      "source": [
        "class Pilha:\n",
        "    def __init__(self, capacidade):\n",
        "        self.__capacidade = capacidade\n",
        "        self.__topo=-1\n",
        "        self.valores=np.empty(self.__capacidade, dtype=int)\n",
        "    \n",
        "    def __pilha_cheia(self):\n",
        "        if self.__topo==self.__capacidade-1:\n",
        "            return True\n",
        "        else:\n",
        "            return False\n",
        "\n",
        "    def __pilha_vazia(self):\n",
        "        if self.__topo==-1:\n",
        "            return True\n",
        "        else:\n",
        "            return False\n",
        "\n",
        "    def empilhar(self, valor):\n",
        "        if self.__pilha_cheia():\n",
        "            print(\"A pilha está cheia\")\n",
        "        else:\n",
        "            self.__topo+=1\n",
        "            self.valores[self.__topo]=valor\n",
        "\n",
        "    def desempilhar(self):\n",
        "        if self.__pilha_vazia():\n",
        "            print(\"A pilha está vazia\")\n",
        "        else:\n",
        "            self.__topo-=1\n",
        "\n",
        "    def ver_topo(self):\n",
        "        if self.__topo !=-1:\n",
        "            return self.valores[self.__topo]\n",
        "        else:\n",
        "            return -1\n"
      ],
      "metadata": {
        "id": "Bg_qT5Fpoyqj"
      },
      "execution_count": 3,
      "outputs": []
    },
    {
      "cell_type": "code",
      "source": [
        "pilha = Pilha(5)"
      ],
      "metadata": {
        "id": "KuEhlsJSoy-M"
      },
      "execution_count": 79,
      "outputs": []
    },
    {
      "cell_type": "code",
      "source": [
        "pilha.empilhar(10)\n",
        "pilha.empilhar(5)\n",
        "pilha.empilhar(20)\n",
        "pilha.empilhar(22)\n",
        "pilha.empilhar(30)"
      ],
      "metadata": {
        "id": "ie-Tb8B0pKAT"
      },
      "execution_count": 80,
      "outputs": []
    },
    {
      "cell_type": "code",
      "source": [
        "pilha.desempilhar()\n",
        "pilha.ver_topo()"
      ],
      "metadata": {
        "colab": {
          "base_uri": "https://localhost:8080/",
          "height": 0
        },
        "id": "4fJS-CB_pZ48",
        "outputId": "e7df87c1-153d-4e9b-df53-66c3b34585ea"
      },
      "execution_count": 81,
      "outputs": [
        {
          "output_type": "execute_result",
          "data": {
            "text/plain": [
              "22"
            ]
          },
          "metadata": {},
          "execution_count": 81
        }
      ]
    },
    {
      "cell_type": "code",
      "source": [
        "#1\n",
        "\n",
        "def maiorValor(x):\n",
        "    \n",
        "    print(max(x))\n"
      ],
      "metadata": {
        "id": "9smNYxF3pxAS"
      },
      "execution_count": 5,
      "outputs": []
    },
    {
      "cell_type": "code",
      "source": [
        "maiorValor(pilha.valores)"
      ],
      "metadata": {
        "colab": {
          "base_uri": "https://localhost:8080/",
          "height": 0
        },
        "id": "Nxwf9c0msR5e",
        "outputId": "cafc0756-9310-4338-f5a7-e6af6ce57fcb"
      },
      "execution_count": 82,
      "outputs": [
        {
          "output_type": "stream",
          "name": "stdout",
          "text": [
            "30\n"
          ]
        }
      ]
    },
    {
      "cell_type": "code",
      "source": [
        "#2\n",
        "\n",
        "import functools\n",
        "def pilhasIguais(z, y):\n",
        "    if functools.reduce(lambda i, j : i and j, map(lambda m, k: m == k, z, y), True):\n",
        "         print(\"Pilhas iguais.\") \n",
        "    else:\n",
        "        print(\"Pilhas diferentes.\")\n",
        "\n",
        "    "
      ],
      "metadata": {
        "id": "psGmNomvvvxn"
      },
      "execution_count": 6,
      "outputs": []
    },
    {
      "cell_type": "code",
      "source": [
        "pilha2 = Pilha(5)"
      ],
      "metadata": {
        "id": "Kcg4xh311MFW"
      },
      "execution_count": 76,
      "outputs": []
    },
    {
      "cell_type": "code",
      "source": [
        "pilha2.empilhar(10)\n",
        "pilha2.empilhar(5)\n",
        "pilha2.empilhar(20)\n",
        "pilha2.empilhar(22)\n",
        "pilha2.empilhar(30)"
      ],
      "metadata": {
        "id": "J8tUsbKl1oPL"
      },
      "execution_count": 77,
      "outputs": []
    },
    {
      "cell_type": "code",
      "source": [
        "pilhasIguais(pilha.valores, pilha2.valores)"
      ],
      "metadata": {
        "colab": {
          "base_uri": "https://localhost:8080/",
          "height": 0
        },
        "id": "vYdQ-A9u1xTN",
        "outputId": "025581c0-7bea-4582-81ef-98d0e62998bd"
      },
      "execution_count": 83,
      "outputs": [
        {
          "output_type": "stream",
          "name": "stdout",
          "text": [
            "Pilhas iguais.\n"
          ]
        }
      ]
    },
    {
      "cell_type": "code",
      "source": [
        "#3\n",
        "def addElementos(pilha, *args):\n",
        "    for i in range(len(args)):\n",
        "        pilha.empilhar(args[i])\n",
        "        \n"
      ],
      "metadata": {
        "id": "rTdcpgOnC_kk"
      },
      "execution_count": 7,
      "outputs": []
    },
    {
      "cell_type": "code",
      "source": [
        "pilha3 = Pilha(4)"
      ],
      "metadata": {
        "id": "_ZOqUbulE3tc"
      },
      "execution_count": null,
      "outputs": []
    },
    {
      "cell_type": "code",
      "source": [
        "addElementos(pilha3, 1, 2, 5, 7)"
      ],
      "metadata": {
        "id": "ZaOinDzyE8ua"
      },
      "execution_count": null,
      "outputs": []
    },
    {
      "cell_type": "code",
      "source": [
        "pilha3.ver_topo()"
      ],
      "metadata": {
        "colab": {
          "base_uri": "https://localhost:8080/"
        },
        "id": "W2iNNaxEFMpz",
        "outputId": "7470cef1-aff8-40fd-e4f7-14c6d330c049"
      },
      "execution_count": null,
      "outputs": [
        {
          "output_type": "execute_result",
          "data": {
            "text/plain": [
              "7"
            ]
          },
          "metadata": {},
          "execution_count": 86
        }
      ]
    },
    {
      "cell_type": "code",
      "source": [
        "placas = Pilha(4)"
      ],
      "metadata": {
        "id": "FDievN29uNkU"
      },
      "execution_count": 4,
      "outputs": []
    },
    {
      "cell_type": "code",
      "source": [
        "addElementos(placas, 12345, 67487, 99966, 90871)"
      ],
      "metadata": {
        "id": "CNOxvUImuO-1"
      },
      "execution_count": 8,
      "outputs": []
    },
    {
      "cell_type": "code",
      "source": [
        "\n",
        "#4\n",
        "\n",
        "def pesquisarPlaca(placa, pilhaX):\n",
        "    if placa not in pilhaX.valores:\n",
        "        print(\"O carro não está estacionado na rua!!\")\n",
        "    else:\n",
        "        if placa == pilhaX.ver_topo():\n",
        "            print(\"O carro pode sair\")\n",
        "        else:\n",
        "            sair = []\n",
        "            for i in range(len(pilhaX.valores)):\n",
        "                if i > list(pilhaX.valores).index(placa):\n",
        "                    sair.append(pilhaX.valores[i])\n",
        "            sair.reverse()\n",
        "            print(f'Sequência de carros que devem sair: {str(sair)[1:-1]}.')\n",
        "\n",
        "                \n",
        "\n",
        "\n",
        "\n",
        "\n"
      ],
      "metadata": {
        "id": "PA2uxYMIu4nc"
      },
      "execution_count": 73,
      "outputs": []
    },
    {
      "cell_type": "code",
      "source": [
        "pesquisarPlaca(67487, placas)"
      ],
      "metadata": {
        "colab": {
          "base_uri": "https://localhost:8080/",
          "height": 0
        },
        "id": "bfKXqsjE_RUv",
        "outputId": "80024686-36a9-4558-aedd-ce6dfe716e11"
      },
      "execution_count": 74,
      "outputs": [
        {
          "output_type": "stream",
          "name": "stdout",
          "text": [
            "Sequência de carros que devem sair: 90871, 99966.\n"
          ]
        }
      ]
    },
    {
      "cell_type": "code",
      "source": [
        "#5\n",
        "def inversa(n):\n",
        "    listaP = list(n)\n",
        "    listaP.reverse()\n",
        "    print(listaP)\n"
      ],
      "metadata": {
        "id": "zu4y7vlAHPel"
      },
      "execution_count": 89,
      "outputs": []
    },
    {
      "cell_type": "code",
      "source": [
        "inversa(pilha2.valores)"
      ],
      "metadata": {
        "colab": {
          "base_uri": "https://localhost:8080/",
          "height": 0
        },
        "id": "shtb06-DIPTp",
        "outputId": "508c55d0-8747-4be6-af5c-78dcfb4cb5fc"
      },
      "execution_count": 90,
      "outputs": [
        {
          "output_type": "stream",
          "name": "stdout",
          "text": [
            "[30, 22, 20, 5, 10]\n"
          ]
        }
      ]
    },
    {
      "cell_type": "code",
      "source": [
        "#6\n",
        "\n",
        "def TPilha(pilha, *args):\n",
        "    for i in range(len(args)):\n",
        "        if args[i] % 2 == 0:\n",
        "            pilha.empilhar(args[i])\n",
        "        if args[i] % 2 != 0:\n",
        "            if pilha.ver_topo() == -1:\n",
        "                print(f'O número {args[i]} não tirou número porque a pilha está vazia.')\n",
        "            else:\n",
        "                print(f'O número {args[i]} tirou o {pilha.ver_topo()}.')\n",
        "            pilha.desempilhar()\n",
        "\n",
        "        \n",
        "    \n",
        "    tpilha= list(pilha.valores)\n",
        "    tpilha.reverse()\n",
        "    print(tpilha)\n",
        "    for j in range(len(tpilha)):\n",
        "        pilha.desempilhar()\n",
        "        print(f'O {tpilha[j]} saiu.')\n",
        "    \n"
      ],
      "metadata": {
        "id": "F0MoDc8dI-1D"
      },
      "execution_count": 124,
      "outputs": []
    },
    {
      "cell_type": "code",
      "source": [
        "pilha5 = Pilha(5)"
      ],
      "metadata": {
        "id": "nKvgL8qMKy8_"
      },
      "execution_count": 92,
      "outputs": []
    },
    {
      "cell_type": "code",
      "source": [
        "TPilha(pilha5, 2, 3, 5, 6, 8, 4, 10, 12, 11, 7, 20, 15, 30, 26, 22)"
      ],
      "metadata": {
        "colab": {
          "base_uri": "https://localhost:8080/"
        },
        "id": "YSEUCHLhPv4U",
        "outputId": "2f988b5f-a99e-4918-9f58-14261c5a080c"
      },
      "execution_count": 125,
      "outputs": [
        {
          "output_type": "stream",
          "name": "stdout",
          "text": [
            "O número 3 tirou o 2.\n",
            "O número 5 não tirou número porque a pilha está vazia.\n",
            "A pilha está vazia\n",
            "O número 11 tirou o 12.\n",
            "O número 7 tirou o 10.\n",
            "O número 15 tirou o 20.\n",
            "A pilha está cheia\n",
            "[26, 30, 4, 8, 6]\n",
            "O 26 saiu.\n",
            "O 30 saiu.\n",
            "O 4 saiu.\n",
            "O 8 saiu.\n",
            "O 6 saiu.\n"
          ]
        }
      ]
    },
    {
      "cell_type": "code",
      "source": [
        "#7\n",
        "\n",
        "\n",
        "def TPilha2(N, P, *args):\n",
        "    for i in range(len(args)):\n",
        "        if args[i] > 0:\n",
        "            P.empilhar(args[i])\n",
        "            print(f'{args[i]} entrou na lista P.')\n",
        "        elif args[i] < 0:\n",
        "            N.empilhar(args[i])\n",
        "            print(f'{args[i]} entrou na lista N.')\n",
        "        if args[i] == 0:\n",
        "            print(f'{P.ver_topo()} saiu da lista P.')\n",
        "            print(f'{N.ver_topo()} saiu da lista N.')\n",
        "            P.desempilhar()\n",
        "            N.desempilhar()\n",
        "            \n",
        "    print(f'N = {N.valores}')\n",
        "    print(f'P = {P.valores}')\n"
      ],
      "metadata": {
        "id": "YW0cbo5HXk0b"
      },
      "execution_count": 141,
      "outputs": []
    },
    {
      "cell_type": "code",
      "source": [
        "pilhaP = Pilha(5)\n",
        "pilhaN = Pilha(5)"
      ],
      "metadata": {
        "id": "KLVUEYMMZGlW"
      },
      "execution_count": 147,
      "outputs": []
    },
    {
      "cell_type": "code",
      "source": [
        "TPilha2(pilhaN, pilhaP, 1, 2, 3, -5, -7, 0, -10, 11, 15, -50, -33, 0, -20, 100, 88, -99)"
      ],
      "metadata": {
        "colab": {
          "base_uri": "https://localhost:8080/"
        },
        "id": "9Y1J7_ozbhM7",
        "outputId": "28852ace-4616-474f-e9c9-2a40d1fb1790"
      },
      "execution_count": 148,
      "outputs": [
        {
          "output_type": "stream",
          "name": "stdout",
          "text": [
            "1 entrou na lista P.\n",
            "2 entrou na lista P.\n",
            "3 entrou na lista P.\n",
            "-5 entrou na lista N.\n",
            "-7 entrou na lista N.\n",
            "3 saiu da lista P.\n",
            "-7 saiu da lista N.\n",
            "-10 entrou na lista N.\n",
            "11 entrou na lista P.\n",
            "15 entrou na lista P.\n",
            "-50 entrou na lista N.\n",
            "-33 entrou na lista N.\n",
            "15 saiu da lista P.\n",
            "-33 saiu da lista N.\n",
            "-20 entrou na lista N.\n",
            "100 entrou na lista P.\n",
            "88 entrou na lista P.\n",
            "-99 entrou na lista N.\n",
            "N = [ -5 -10 -50 -20 -99]\n",
            "P = [  1   2  11 100  88]\n"
          ]
        }
      ]
    }
  ]
}