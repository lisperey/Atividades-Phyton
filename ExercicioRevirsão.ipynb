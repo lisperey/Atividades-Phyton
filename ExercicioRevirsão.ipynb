{
  "nbformat": 4,
  "nbformat_minor": 0,
  "metadata": {
    "colab": {
      "name": "ExercicioRevirsão.ipynb",
      "provenance": [],
      "collapsed_sections": [],
      "authorship_tag": "ABX9TyONtesT3KepHdJf5R33jXs1",
      "include_colab_link": true
    },
    "kernelspec": {
      "name": "python3",
      "display_name": "Python 3"
    },
    "language_info": {
      "name": "python"
    }
  },
  "cells": [
    {
      "cell_type": "markdown",
      "metadata": {
        "id": "view-in-github",
        "colab_type": "text"
      },
      "source": [
        "<a href=\"https://colab.research.google.com/github/lisperey/Atividades-Phyton/blob/main/ExercicioRevirs%C3%A3o.ipynb\" target=\"_parent\"><img src=\"https://colab.research.google.com/assets/colab-badge.svg\" alt=\"Open In Colab\"/></a>"
      ]
    },
    {
      "cell_type": "markdown",
      "source": [
        "Questão 1\n"
      ],
      "metadata": {
        "id": "zKQQnLjVJsmc"
      }
    },
    {
      "cell_type": "code",
      "source": [
        "\n",
        "\n",
        "nota1 = float(input(\"Informe a primeira nota: \"))\n",
        "nota2 = float(input(\"Informe a segunda nota: \"))\n",
        "nota3 = float(input(\"Informe a terceira nota: \"))\n",
        "\n",
        "media= (nota1 + nota2 + nota3)/3\n",
        "\n",
        "print(f'Primeira nota: {nota1}. \\nSegunda nota: {nota2}. \\nTerceira nota: {nota3}.\\n \\nMédia: {media:,.2f}.')\n",
        "\n",
        "if media >= 7:\n",
        "  print(\"Situação: Aprovado!\")\n",
        "elif media == 10:\n",
        "  print(\"Situação: Aprovado com Distinção!\")\n",
        "else:\n",
        "  print(\"Situação: Reprovado!\")\n"
      ],
      "metadata": {
        "id": "ShepxK9IJwlz"
      },
      "execution_count": null,
      "outputs": []
    },
    {
      "cell_type": "markdown",
      "source": [
        "Questão 2"
      ],
      "metadata": {
        "id": "6Es38-FUMOJD"
      }
    },
    {
      "cell_type": "code",
      "source": [
        "nota = float(input(\"Informe uma nota de 0 à 10: \"))\n",
        "\n",
        "while nota > 10 or nota < 0:\n",
        "  print(\"Nota inválida.\")\n",
        "  nota = float(input(\"Informe uma nota de 0 à 10: \"))\n",
        "\n",
        "print(f'Agradecemos sua nota {nota}!')"
      ],
      "metadata": {
        "id": "av4UipNuMTBR"
      },
      "execution_count": null,
      "outputs": []
    },
    {
      "cell_type": "markdown",
      "source": [
        "Questão 3"
      ],
      "metadata": {
        "id": "Nd50dx9PMP1b"
      }
    },
    {
      "cell_type": "code",
      "source": [
        "f = float(input(\"Informe a temperatura em Fahrenheit: \"))\n",
        "\n",
        "c = 5 * ((f-32)/9)\n",
        "\n",
        "print(f'A temperatura {f}°F em Celsius é: {c:,.2f}°C')"
      ],
      "metadata": {
        "id": "or08bCBDMUxY"
      },
      "execution_count": null,
      "outputs": []
    },
    {
      "cell_type": "markdown",
      "source": [
        "Questão 4"
      ],
      "metadata": {
        "id": "t3H8cy53MRQf"
      }
    },
    {
      "cell_type": "code",
      "source": [
        "ano = int(input(\"Informe o ano: \"))\n",
        "\n",
        "if ano % 4 == 0:\n",
        "  print(f'O ano {ano} é bisiesto.')\n",
        "\n",
        "else:\n",
        "  print(f'O ano {ano} não é bisiesto')"
      ],
      "metadata": {
        "id": "2N8EI68bMWNh"
      },
      "execution_count": null,
      "outputs": []
    },
    {
      "cell_type": "markdown",
      "source": [
        "Questão 5\n"
      ],
      "metadata": {
        "id": "Wz0R3SEfIbBO"
      }
    },
    {
      "cell_type": "code",
      "source": [
        "\n",
        "\n",
        "x = int(input(\"Digite um número: \"))\n",
        "\n",
        "p = []\n",
        "\n",
        "for i in range(2, x+1):\n",
        "  for j in range(1, i):\n",
        "    if i%j == 0:\n",
        "      p.append(i)\n",
        "\n",
        "for y in range(len(p)):\n",
        "  if p.count(p[y]) < 2:\n",
        "    print(p[y])\n",
        "  \n",
        "  "
      ],
      "metadata": {
        "id": "nQFqvsd1zFB5"
      },
      "execution_count": null,
      "outputs": []
    },
    {
      "cell_type": "markdown",
      "source": [
        "Questão 6"
      ],
      "metadata": {
        "id": "aMdjbLUWVQMO"
      }
    },
    {
      "cell_type": "code",
      "source": [
        "\n",
        "i = []\n",
        "a = []\n",
        "\n",
        "for b in range(1, 3):\n",
        "  idade = int(input(\"Informa a idade: \"))\n",
        "  i.append(str(idade))\n",
        "  altura = float(input(\"Informe a altura: \"))\n",
        "  a.append(str(altura))\n",
        "\n",
        "iR = list(reversed(i))\n",
        "aR = list(reversed(a))\n",
        "\n",
        "y= ', '.join(iR)\n",
        "h= ', '.join(aR)\n",
        "\n",
        "print(f'Idades: {y}. \\nAlturas: {h}.')\n"
      ],
      "metadata": {
        "id": "b-k_EtjhVSPe"
      },
      "execution_count": null,
      "outputs": []
    },
    {
      "cell_type": "markdown",
      "source": [
        "Questão 7"
      ],
      "metadata": {
        "id": "MopdKuxXVSq1"
      }
    },
    {
      "cell_type": "code",
      "source": [
        "n = int(input(\"Informe um número: \"))\n",
        "\n",
        "lista = str(n)\n",
        "\n",
        "x = list(reversed(lista))\n",
        "print(''.join(x))"
      ],
      "metadata": {
        "id": "UblgDjOHVUId"
      },
      "execution_count": null,
      "outputs": []
    }
  ]
}