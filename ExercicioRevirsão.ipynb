{
  "nbformat": 4,
  "nbformat_minor": 0,
  "metadata": {
    "colab": {
      "name": "ExercicioRevirsão.ipynb",
      "provenance": [],
      "collapsed_sections": [],
      "authorship_tag": "ABX9TyONtesT3KepHdJf5R33jXs1",
      "include_colab_link": true
    },
    "kernelspec": {
      "name": "python3",
      "display_name": "Python 3"
    },
    "language_info": {
      "name": "python"
    }
  },
  "cells": [
    {
      "cell_type": "markdown",
      "metadata": {
        "id": "view-in-github",
        "colab_type": "text"
      },
      "source": [
        "<a href=\"https://colab.research.google.com/github/lisperey/Atividades-Phyton/blob/main/ExercicioRevirs%C3%A3o.ipynb\" target=\"_parent\"><img src=\"https://colab.research.google.com/assets/colab-badge.svg\" alt=\"Open In Colab\"/></a>"
      ]
    },
    {
      "cell_type": "markdown",
      "source": [
        "Questão 1\n"
      ],
      "metadata": {
        "id": "zKQQnLjVJsmc"
      }
    },
    {
      "cell_type": "code",
      "source": [
        "\n",
        "\n",
        "nota1 = float(input(\"Informe a primeira nota: \"))\n",
        "nota2 = float(input(\"Informe a segunda nota: \"))\n",
        "nota3 = float(input(\"Informe a terceira nota: \"))\n",
        "\n",
        "media= (nota1 + nota2 + nota3)/3\n",
        "\n",
        "print(f'Primeira nota: {nota1}. \\nSegunda nota: {nota2}. \\nTerceira nota: {nota3}.\\n \\nMédia: {media:,.2f}.')\n",
        "\n",
        "if media >= 7:\n",
        "  print(\"Situação: Aprovado!\")\n",
        "elif media == 10:\n",
        "  print(\"Situação: Aprovado com Distinção!\")\n",
        "else:\n",
        "  print(\"Situação: Reprovado!\")\n"
      ],
      "metadata": {
        "colab": {
          "base_uri": "https://localhost:8080/"
        },
        "id": "ShepxK9IJwlz",
        "outputId": "caa31ec5-0325-4cdd-b136-9e619367b922"
      },
      "execution_count": null,
      "outputs": [
        {
          "output_type": "stream",
          "name": "stdout",
          "text": [
            "Informe a primeira nota: 4\n",
            "Informe a segunda nota: 5\n",
            "Informe a terceira nota: 3\n",
            "Primeira nota: 4.0. \n",
            "Segunda nota: 5.0. \n",
            "Terceira nota: 3.0.\n",
            " \n",
            "Média: 4.00.\n",
            "Situação: Reprovado!\n"
          ]
        }
      ]
    },
    {
      "cell_type": "markdown",
      "source": [
        "Questão 2"
      ],
      "metadata": {
        "id": "6Es38-FUMOJD"
      }
    },
    {
      "cell_type": "code",
      "source": [
        "nota = float(input(\"Informe uma nota de 0 à 10: \"))\n",
        "\n",
        "while nota > 10 or nota < 0:\n",
        "  print(\"Nota inválida.\")\n",
        "  nota = float(input(\"Informe uma nota de 0 à 10: \"))\n",
        "\n",
        "print(f'Agradecemos sua nota {nota}!')"
      ],
      "metadata": {
        "colab": {
          "base_uri": "https://localhost:8080/"
        },
        "id": "av4UipNuMTBR",
        "outputId": "b2b6bec7-7556-48eb-c3fe-2b853f3931cc"
      },
      "execution_count": null,
      "outputs": [
        {
          "output_type": "stream",
          "name": "stdout",
          "text": [
            "Informe uma nota de 0 à 10: 12\n",
            "Nota inválida.\n",
            "Informe uma nota de 0 à 10: 15\n",
            "Nota inválida.\n",
            "Informe uma nota de 0 à 10: 9.5\n",
            "Obrigado pela nota: 9.5\n"
          ]
        }
      ]
    },
    {
      "cell_type": "markdown",
      "source": [
        "Questão 3"
      ],
      "metadata": {
        "id": "Nd50dx9PMP1b"
      }
    },
    {
      "cell_type": "code",
      "source": [
        "f = float(input(\"Informe a temperatura em Fahrenheit: \"))\n",
        "\n",
        "c = 5 * ((f-32)/9)\n",
        "\n",
        "print(f'A temperatura {f}°F em Celsius é: {c:,.2f}°C')"
      ],
      "metadata": {
        "colab": {
          "base_uri": "https://localhost:8080/"
        },
        "id": "or08bCBDMUxY",
        "outputId": "3e71b182-f1c9-4d6f-c841-72e806262c3f"
      },
      "execution_count": null,
      "outputs": [
        {
          "output_type": "stream",
          "name": "stdout",
          "text": [
            "Informe a temperatura em Fahrenheit: 100\n",
            "A temperatura 100.0°F em Celsius é: 37.78°C\n"
          ]
        }
      ]
    },
    {
      "cell_type": "markdown",
      "source": [
        "Questão 4"
      ],
      "metadata": {
        "id": "t3H8cy53MRQf"
      }
    },
    {
      "cell_type": "code",
      "source": [
        "ano = int(input(\"Informe o ano: \"))\n",
        "\n",
        "if ano % 4 == 0:\n",
        "  print(f'O ano {ano} é bisiesto.')\n",
        "\n",
        "else:\n",
        "  print(f'O ano {ano} não é bisiesto')"
      ],
      "metadata": {
        "colab": {
          "base_uri": "https://localhost:8080/"
        },
        "id": "2N8EI68bMWNh",
        "outputId": "92e6845c-317a-4e2a-de8a-b528098b02a2"
      },
      "execution_count": null,
      "outputs": [
        {
          "output_type": "stream",
          "name": "stdout",
          "text": [
            "Informe o ano: 2000\n",
            "O ano 2000 é bisiesto.\n"
          ]
        }
      ]
    },
    {
      "cell_type": "markdown",
      "source": [
        "Questão 5\n"
      ],
      "metadata": {
        "id": "Wz0R3SEfIbBO"
      }
    },
    {
      "cell_type": "code",
      "source": [
        "\n",
        "\n",
        "x = int(input(\"Digite um número: \"))\n",
        "\n",
        "p = []\n",
        "\n",
        "for i in range(2, x+1):\n",
        "  for j in range(1, i):\n",
        "    if i%j == 0:\n",
        "      p.append(i)\n",
        "\n",
        "for y in range(len(p)):\n",
        "  if p.count(p[y]) < 2:\n",
        "    print(p[y])\n",
        "  \n",
        "  "
      ],
      "metadata": {
        "colab": {
          "base_uri": "https://localhost:8080/"
        },
        "id": "nQFqvsd1zFB5",
        "outputId": "d6dc47b0-2054-4e92-e605-dae42925380d"
      },
      "execution_count": null,
      "outputs": [
        {
          "output_type": "stream",
          "name": "stdout",
          "text": [
            "Digite um número: 97\n",
            "2\n",
            "3\n",
            "5\n",
            "7\n",
            "11\n",
            "13\n",
            "17\n",
            "19\n",
            "23\n",
            "29\n",
            "31\n",
            "37\n",
            "41\n",
            "43\n",
            "47\n",
            "53\n",
            "59\n",
            "61\n",
            "67\n",
            "71\n",
            "73\n",
            "79\n",
            "83\n",
            "89\n",
            "97\n"
          ]
        }
      ]
    },
    {
      "cell_type": "markdown",
      "source": [
        "Questão 6"
      ],
      "metadata": {
        "id": "aMdjbLUWVQMO"
      }
    },
    {
      "cell_type": "code",
      "source": [
        "\n",
        "i = []\n",
        "a = []\n",
        "\n",
        "for b in range(1, 3):\n",
        "  idade = int(input(\"Informa a idade: \"))\n",
        "  i.append(str(idade))\n",
        "  altura = float(input(\"Informe a altura: \"))\n",
        "  a.append(str(altura))\n",
        "\n",
        "iR = list(reversed(i))\n",
        "aR = list(reversed(a))\n",
        "\n",
        "y= ', '.join(iR)\n",
        "h= ', '.join(aR)\n",
        "\n",
        "print(f'Idades: {y}. \\nAlturas: {h}.')\n"
      ],
      "metadata": {
        "colab": {
          "base_uri": "https://localhost:8080/"
        },
        "id": "b-k_EtjhVSPe",
        "outputId": "1f6e2272-248b-4f89-ce53-f8904182538a"
      },
      "execution_count": null,
      "outputs": [
        {
          "output_type": "stream",
          "name": "stdout",
          "text": [
            "Informa a idade: 25\n",
            "Informe a altura: 1.98\n",
            "Informa a idade: 28\n",
            "Informe a altura: 1.60\n",
            "Idades: 28, 25. \n",
            "Alturas: 1.6, 1.98\n"
          ]
        }
      ]
    },
    {
      "cell_type": "markdown",
      "source": [
        "Questão 7"
      ],
      "metadata": {
        "id": "MopdKuxXVSq1"
      }
    },
    {
      "cell_type": "code",
      "source": [
        "n = int(input(\"Informe um número: \"))\n",
        "\n",
        "lista = str(n)\n",
        "\n",
        "x = list(reversed(lista))\n",
        "print(''.join(x))"
      ],
      "metadata": {
        "colab": {
          "base_uri": "https://localhost:8080/"
        },
        "id": "UblgDjOHVUId",
        "outputId": "2cb9ab3b-e78a-4401-b0fd-28fadfc4b19e"
      },
      "execution_count": null,
      "outputs": [
        {
          "output_type": "stream",
          "name": "stdout",
          "text": [
            "Informe um número: 365\n",
            "563\n"
          ]
        }
      ]
    }
  ]
}